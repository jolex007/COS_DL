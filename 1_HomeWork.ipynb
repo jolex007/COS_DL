{
  "nbformat": 4,
  "nbformat_minor": 0,
  "metadata": {
    "kernelspec": {
      "display_name": "Python 3",
      "language": "python",
      "name": "python3"
    },
    "language_info": {
      "codemirror_mode": {
        "name": "ipython",
        "version": 3
      },
      "file_extension": ".py",
      "mimetype": "text/x-python",
      "name": "python",
      "nbconvert_exporter": "python",
      "pygments_lexer": "ipython3",
      "version": "3.7.1"
    },
    "colab": {
      "name": "1_HomeWork.ipynb",
      "provenance": [],
      "include_colab_link": true
    }
  },
  "cells": [
    {
      "cell_type": "markdown",
      "metadata": {
        "id": "view-in-github",
        "colab_type": "text"
      },
      "source": [
        "<a href=\"https://colab.research.google.com/github/jolex007/COS_DL/blob/master/1_HomeWork.ipynb\" target=\"_parent\"><img src=\"https://colab.research.google.com/assets/colab-badge.svg\" alt=\"Open In Colab\"/></a>"
      ]
    },
    {
      "cell_type": "markdown",
      "metadata": {
        "id": "I7QukJS9_zjJ",
        "colab_type": "text"
      },
      "source": [
        "# 1 Задание по машинке"
      ]
    },
    {
      "cell_type": "code",
      "metadata": {
        "id": "EG9OzStY_zjL",
        "colab_type": "code",
        "colab": {}
      },
      "source": [
        "import numpy as np\n",
        "import os\n",
        "import cv2"
      ],
      "execution_count": 1,
      "outputs": []
    },
    {
      "cell_type": "markdown",
      "metadata": {
        "id": "wn7q9c64_zjQ",
        "colab_type": "text"
      },
      "source": [
        "## Инициализация модели"
      ]
    },
    {
      "cell_type": "code",
      "metadata": {
        "id": "iUo9rtWW_zjR",
        "colab_type": "code",
        "colab": {}
      },
      "source": [
        "def init_model(input_size=256):\n",
        "    np.random.seed(2)\n",
        "    w = np.random.randn(input_size ** 2, 1) * 0.05\n",
        "    b = 0\n",
        "    return w, b"
      ],
      "execution_count": 2,
      "outputs": []
    },
    {
      "cell_type": "code",
      "metadata": {
        "id": "30K4hAki_zjU",
        "colab_type": "code",
        "colab": {}
      },
      "source": [
        "def sigmoid(x):\n",
        "    return 1. / (1 + np.exp(-x))"
      ],
      "execution_count": 3,
      "outputs": []
    },
    {
      "cell_type": "markdown",
      "metadata": {
        "id": "ViyU1v8a_zjW",
        "colab_type": "text"
      },
      "source": [
        "## Forward & Backward propogation"
      ]
    },
    {
      "cell_type": "code",
      "metadata": {
        "id": "51YhxTHL_zjX",
        "colab_type": "code",
        "colab": {}
      },
      "source": [
        "def propagate(w, b, X, Y):\n",
        "    \"\"\"\n",
        "    Подсчет текущего предсказания (оно же forward propagation) и градиента функции ошибки (оно же backward propagation)\n",
        "\n",
        "    Input:\n",
        "    w -- веса, numpy_array размера (num_px * num_px * 3, 1)\n",
        "    b -- смещение, скалярная величина\n",
        "    X -- данные размера (num_px * num_px * 3, кол-во образцов)\n",
        "    Y -- вектор истинных ответов размера (1, кол-во образцов)\n",
        "\n",
        "    Return:\n",
        "    cost -- текущая функция ошибки\n",
        "    dw -- градиент функции ошибки по w\n",
        "    db -- градиент функции ошибки по b (по сути производная по b)\n",
        "    \n",
        "    \"\"\"\n",
        "    \n",
        "    m = X.shape[1]\n",
        "    \n",
        "\n",
        "    A = sigmoid(w.T @ X + b)\n",
        "\n",
        "    cost = (-1. / m) * (Y * np.log(A) + (1 - Y) * np.log(1 - A)).sum()\n",
        "    \n",
        "    dw = (1. / m) * X @ (A - Y).T\n",
        "    db = (1. / m) * (A - Y).sum()\n",
        "\n",
        "    grads = {\"dw\": dw,\n",
        "             \"db\": db}\n",
        "\n",
        "    return grads, cost"
      ],
      "execution_count": 4,
      "outputs": []
    },
    {
      "cell_type": "markdown",
      "metadata": {
        "id": "rPp2WPSU_zjZ",
        "colab_type": "text"
      },
      "source": [
        "## Шаг обновления весов"
      ]
    },
    {
      "cell_type": "code",
      "metadata": {
        "id": "KTDxA57u_zja",
        "colab_type": "code",
        "colab": {}
      },
      "source": [
        "def optimize(w, b, X, Y, num_iterations, learning_rate=0.002, print_cost=False):\n",
        "    \"\"\"\n",
        "    Оптимизация с помощью простого градиентного спуска\n",
        "    \n",
        "    Input:\n",
        "    w -- веса, numpy_array размера (num_px * num_px * 3, 1)\n",
        "    b -- смещение, скалярная величина\n",
        "    X -- данные размера (num_px * num_px * 3, кол-во образцов)\n",
        "    Y -- вектор истинных ответов размера (1, кол-во образцов)\n",
        "    num_iterations -- кол-во итераций алгоритма оптимизации\n",
        "    learning_rate -- коэффициент learning rate\n",
        "    print_cost -- True, если хотите выводить функцию ошибки на каждых 100 итерациях\n",
        "    \n",
        "    Returns:\n",
        "    params -- словарь, содержащий w и b\n",
        "    grads -- словарь, содержащий градиенты функции ошибки по w и b соответственно\n",
        "    costs -- массив (list) со значением функции ошибки для каждой итерации (так делают для визуализации)\n",
        "    \n",
        "    Подсказка:\n",
        "    \n",
        "        1) Используйте ранее написанную функцию propagate().\n",
        "        2) Обновляйте параметры w и b согласно формуле 10.\n",
        "    \"\"\"\n",
        "    \n",
        "    costs = []\n",
        "    \n",
        "    for i in range(num_iterations):\n",
        "        \n",
        "        \n",
        "        ###Напишите значения для градиентов и функции ошибки\n",
        "        grads, cost = propagate(w, b, X, Y)\n",
        "        \n",
        "        \n",
        "        # Retrieve derivatives from grads\n",
        "        dw = grads[\"dw\"]\n",
        "        db = grads[\"db\"]\n",
        "        \n",
        "        # обновление параметров\n",
        "        \n",
        "        ### START CODE HERE ###\n",
        "        w = w - learning_rate * dw\n",
        "        b = b - learning_rate * db\n",
        "        ### END CODE HERE ###\n",
        "        \n",
        "        # Record the costs\n",
        "        if i % 100 == 0:\n",
        "            costs.append(cost)\n",
        "        \n",
        "        # Print the cost every 100 training iterations\n",
        "        if print_cost and i % 100 == 0:\n",
        "            print (\"Cost after iteration %i: %f\" %(i, cost))\n",
        "    \n",
        "    params = {\"w\": w,\n",
        "              \"b\": b}\n",
        "    \n",
        "    grads = {\"dw\": dw,\n",
        "             \"db\": db}\n",
        "    \n",
        "    return params, grads, costs"
      ],
      "execution_count": 5,
      "outputs": []
    },
    {
      "cell_type": "markdown",
      "metadata": {
        "id": "bXy_C8ot_zjc",
        "colab_type": "text"
      },
      "source": [
        "## Предсказание модели"
      ]
    },
    {
      "cell_type": "code",
      "metadata": {
        "id": "1gGdNfB7_zjd",
        "colab_type": "code",
        "colab": {}
      },
      "source": [
        "def predict(w, b, X):\n",
        "    '''\n",
        "    Inputs:\n",
        "    w\n",
        "    b\n",
        "    X -- данные размера (num_px * num_px * 3, кол-во образцов)\n",
        "    \n",
        "    Returns:\n",
        "    Y_prediction\n",
        "    '''\n",
        "    \n",
        "    m = X.shape[1]\n",
        "    Y_prediction = np.zeros((1, m))\n",
        "    w = w.reshape(X.shape[0], 1)\n",
        "    \n",
        "    ### START CODE HERE ### (≈ 1 line of code)\n",
        "    A = sigmoid(w.T @ X + b)\n",
        "    ### END CODE HERE ###\n",
        "    \n",
        "    for i in range(A.shape[1]):\n",
        "        # Установите порог, выше которого считаем, что модель выдает 1, а ниже - ноль\n",
        "        ### START CODE HERE ###\n",
        "        if A[0][i] <= 0.7:\n",
        "            Y_prediction[0][i] = 0\n",
        "        else:\n",
        "            Y_prediction[0][i] = 1\n",
        "        ### END CODE HERE ###\n",
        "    \n",
        "    \n",
        "    return Y_prediction"
      ],
      "execution_count": 6,
      "outputs": []
    },
    {
      "cell_type": "code",
      "metadata": {
        "id": "_6VxYYB0_zjg",
        "colab_type": "code",
        "colab": {}
      },
      "source": [
        "def model(X, Y, num_iterations=10000, print_cost=False):\n",
        "    w, b = init_model()\n",
        "    params, _, _ = optimize(w, b, X, Y, num_iterations, print_cost=print_cost)\n",
        "    \n",
        "    return params[\"w\"], params[\"b\"]"
      ],
      "execution_count": 7,
      "outputs": []
    },
    {
      "cell_type": "markdown",
      "metadata": {
        "id": "3KrGwkR1_zjj",
        "colab_type": "text"
      },
      "source": [
        "## Обработка датасета"
      ]
    },
    {
      "cell_type": "code",
      "metadata": {
        "id": "fE7nrzJ2AA6t",
        "colab_type": "code",
        "colab": {
          "base_uri": "https://localhost:8080/",
          "height": 34
        },
        "outputId": "7b03f2d2-d9e7-4c60-b4b6-d9402d7d7f3a"
      },
      "source": [
        "from google.colab import drive \n",
        "drive.mount('/content/gdrive')"
      ],
      "execution_count": 8,
      "outputs": [
        {
          "output_type": "stream",
          "text": [
            "Drive already mounted at /content/gdrive; to attempt to forcibly remount, call drive.mount(\"/content/gdrive\", force_remount=True).\n"
          ],
          "name": "stdout"
        }
      ]
    },
    {
      "cell_type": "code",
      "metadata": {
        "id": "SAIZxFMT_zjj",
        "colab_type": "code",
        "colab": {}
      },
      "source": [
        "def read_files(X, Y, path, ans):\n",
        "    files = os.listdir(path)\n",
        "    for name in files:\n",
        "        img = cv2.imread(path + '/' + name, 0)\n",
        "        if img.shape != 0:\n",
        "            img = cv2.resize(img, (256, 256))\n",
        "            vect = img.reshape(1, 256 ** 2)\n",
        "            vect = vect / 255.\n",
        "            X = vect if (X is None) else np.vstack((X, vect)) \n",
        "            Y = np.append(Y, ans)\n",
        "    return X, Y\n",
        "\n",
        "path = \"gdrive/My Drive/COS/lesson1_dataset\"\n",
        "# os.listdir(\"content/gdrive/\")\n",
        "X = None\n",
        "Y = np.array([])\n",
        "X, Y = read_files(X, Y, path + \"/logloss_0\", 0)\n",
        "X, Y = read_files(X, Y, path + \"/logloss_1\", 1)\n",
        "\n",
        "X = X.T"
      ],
      "execution_count": 9,
      "outputs": []
    },
    {
      "cell_type": "markdown",
      "metadata": {
        "id": "sfC-SUTb_zjm",
        "colab_type": "text"
      },
      "source": [
        "## Запуск модели"
      ]
    },
    {
      "cell_type": "code",
      "metadata": {
        "id": "u6ploGv5_zjn",
        "colab_type": "code",
        "colab": {
          "base_uri": "https://localhost:8080/",
          "height": 187
        },
        "outputId": "a518796b-ecba-487a-d486-8e9b8bf1f6e9"
      },
      "source": [
        "w, b = model(X, Y, num_iterations=1000, print_cost=True)"
      ],
      "execution_count": 10,
      "outputs": [
        {
          "output_type": "stream",
          "text": [
            "Cost after iteration 0: 0.801620\n",
            "Cost after iteration 100: 0.128781\n",
            "Cost after iteration 200: 0.077143\n",
            "Cost after iteration 300: 0.056444\n",
            "Cost after iteration 400: 0.045118\n",
            "Cost after iteration 500: 0.037910\n",
            "Cost after iteration 600: 0.032890\n",
            "Cost after iteration 700: 0.029177\n",
            "Cost after iteration 800: 0.026310\n",
            "Cost after iteration 900: 0.024023\n"
          ],
          "name": "stdout"
        }
      ]
    },
    {
      "cell_type": "code",
      "metadata": {
        "id": "AqU1tvbt_zjr",
        "colab_type": "code",
        "colab": {}
      },
      "source": [
        "result = predict(w, b, X)"
      ],
      "execution_count": 11,
      "outputs": []
    },
    {
      "cell_type": "code",
      "metadata": {
        "id": "xkR8pbdg_zjt",
        "colab_type": "code",
        "colab": {
          "base_uri": "https://localhost:8080/",
          "height": 136
        },
        "outputId": "44fd2b6f-f3f6-4c79-bb86-3bc8c9a480db"
      },
      "source": [
        "print(\"My Results: \", result)\n",
        "print(\"Real Results: \", Y)\n",
        "\n",
        "T = 0\n",
        "All = 0\n",
        "\n",
        "for i in range(result.shape[1]):\n",
        "    if result[0][i] == Y[i]:\n",
        "        T += 1\n",
        "    All += 1\n",
        "\n",
        "print(\"Total accuracy: %f%%\" %(T / All * 100))"
      ],
      "execution_count": 12,
      "outputs": [
        {
          "output_type": "stream",
          "text": [
            "My Results:  [[0. 0. 0. 0. 0. 0. 0. 0. 0. 0. 0. 0. 0. 0. 0. 0. 0. 0. 0. 0. 0. 0. 1. 1.\n",
            "  1. 1. 1. 1. 1. 1. 1. 1. 1. 1. 1. 1. 1. 1. 1. 1. 1. 1. 1. 1. 1. 1. 1. 1.\n",
            "  1. 1. 1. 1. 1. 1. 1. 1. 1. 1. 1. 1. 1. 1. 1. 1. 1.]]\n",
            "Real Results:  [0. 0. 0. 0. 0. 0. 0. 0. 0. 0. 0. 0. 0. 0. 0. 0. 0. 0. 0. 0. 0. 0. 1. 1.\n",
            " 1. 1. 1. 1. 1. 1. 1. 1. 1. 1. 1. 1. 1. 1. 1. 1. 1. 1. 1. 1. 1. 1. 1. 1.\n",
            " 1. 1. 1. 1. 1. 1. 1. 1. 1. 1. 1. 1. 1. 1. 1. 1. 1.]\n",
            "Total accuracy: 100.000000%\n"
          ],
          "name": "stdout"
        }
      ]
    }
  ]
}