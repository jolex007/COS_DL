{
  "nbformat": 4,
  "nbformat_minor": 0,
  "metadata": {
    "colab": {
      "name": "2_HomeWork.ipynb",
      "provenance": [],
      "include_colab_link": true
    },
    "kernelspec": {
      "name": "python3",
      "display_name": "Python 3"
    }
  },
  "cells": [
    {
      "cell_type": "markdown",
      "metadata": {
        "id": "view-in-github",
        "colab_type": "text"
      },
      "source": [
        "<a href=\"https://colab.research.google.com/github/jolex007/COS_DL/blob/master/2_HomeWork.ipynb\" target=\"_parent\"><img src=\"https://colab.research.google.com/assets/colab-badge.svg\" alt=\"Open In Colab\"/></a>"
      ]
    },
    {
      "cell_type": "markdown",
      "metadata": {
        "id": "0asjVdL3ixSh",
        "colab_type": "text"
      },
      "source": [
        "# Второе домашнее задание\n",
        "\n"
      ]
    },
    {
      "cell_type": "code",
      "metadata": {
        "id": "614CwIVxiz7Q",
        "colab_type": "code",
        "colab": {}
      },
      "source": [
        "import numpy as np\n",
        "import matplotlib.pyplot as plt\n",
        "%matplotlib inline"
      ],
      "execution_count": 1,
      "outputs": []
    },
    {
      "cell_type": "markdown",
      "metadata": {
        "id": "IRWGOYdvjX3V",
        "colab_type": "text"
      },
      "source": [
        "## Описание нейросети"
      ]
    },
    {
      "cell_type": "code",
      "metadata": {
        "id": "ieYCoctxjHoM",
        "colab_type": "code",
        "colab": {}
      },
      "source": [
        "def layer_sizes(X, Y):\n",
        "    \"\"\"\n",
        "    Arguments:\n",
        "    X -- input dataset of shape (input size, number of examples)\n",
        "    Y -- labels of shape (output size, number of examples)\n",
        "    \n",
        "    Returns:\n",
        "    n_x -- the size of the input layer\n",
        "    n_h -- the size of the hidden layer\n",
        "    n_y -- the size of the output layer\n",
        "    \"\"\"\n",
        "    ### START CODE HERE ###\n",
        "    n_x = 2\n",
        "    n_h = 4\n",
        "    n_y = 1\n",
        "    ### END CODE HERE ###\n",
        "    return (n_x, n_h, n_y)"
      ],
      "execution_count": 2,
      "outputs": []
    },
    {
      "cell_type": "markdown",
      "metadata": {
        "id": "ing1VP_0jge9",
        "colab_type": "text"
      },
      "source": [
        "## Инициализация параметров"
      ]
    },
    {
      "cell_type": "code",
      "metadata": {
        "id": "_uAfmSVUjc6h",
        "colab_type": "code",
        "colab": {}
      },
      "source": [
        "def initialize_parameters(n_x, n_h, n_y):\n",
        "    \"\"\"\n",
        "    Argument:\n",
        "    n_x -- size of the input layer\n",
        "    n_h -- size of the hidden layer\n",
        "    n_y -- size of the output layer\n",
        "    \n",
        "    Returns:\n",
        "    params -- python dictionary containing your parameters:\n",
        "                    W1 -- weight matrix of shape (n_h, n_x)\n",
        "                    b1 -- bias vector of shape (n_h, 1)\n",
        "                    W2 -- weight matrix of shape (n_y, n_h)\n",
        "                    b2 -- bias vector of shape (n_y, 1)\n",
        "    \"\"\"\n",
        "    \n",
        "    np.random.seed(2) # ЭТУ_СТРОКУ_НЕ_РЕДАКТИРОВАТЬ\n",
        "    \n",
        "    ### START CODE HERE ###\n",
        "    W1 = np.random.randn(n_h, n_x)\n",
        "    b1 = np.ones((n_h, 1)) * (1.)\n",
        "    W2 = np.random.randn(n_y, n_h)\n",
        "    b2 = np.ones((n_y, 1)) * (1.)\n",
        "    ### END CODE HERE ###\n",
        "        \n",
        "    parameters = {\"W1\": W1,\n",
        "                  \"b1\": b1,\n",
        "                  \"W2\": W2,\n",
        "                  \"b2\": b2}\n",
        "    \n",
        "    return parameters"
      ],
      "execution_count": 3,
      "outputs": []
    },
    {
      "cell_type": "markdown",
      "metadata": {
        "id": "MXxQJCmUjxtY",
        "colab_type": "text"
      },
      "source": [
        "## Forward propogation"
      ]
    },
    {
      "cell_type": "code",
      "metadata": {
        "id": "aysT0GRgjueg",
        "colab_type": "code",
        "colab": {}
      },
      "source": [
        "def forward_propagation(X, parameters, activation_func):\n",
        "    \"\"\"\n",
        "    Argument:\n",
        "    X -- input data of size (n_x, m)\n",
        "    parameters -- python dictionary containing your parameters (output of initialization function)\n",
        "    activation_func -- function of activation\n",
        "    \n",
        "    Returns:\n",
        "    A2 -- The sigmoid output of the second activation\n",
        "    cache -- a dictionary containing \"Z1\", \"A1\", \"Z2\" and \"A2\"\n",
        "    \"\"\"\n",
        "    \n",
        "    W1 = parameters[\"W1\"]\n",
        "    b1 = parameters[\"b1\"]\n",
        "    W2 = parameters[\"W2\"]\n",
        "    b2 = parameters[\"b2\"]\n",
        "    \n",
        "    ### START CODE HERE ###\n",
        "    #print(\"b1 shape is\", b1.shape, \"W1 shape is\", W1.shape, \"X shape is\", X.shape)\n",
        "    Z1 = W1 @ X + b1\n",
        "    A1 = activation_func(Z1)\n",
        "    Z2 = W2 @ A1 + b2\n",
        "    A2 = activation_func(Z2)\n",
        "    ### END CODE HERE ###\n",
        "    \n",
        "    cache = {\"Z1\": Z1,\n",
        "             \"A1\": A1,\n",
        "             \"Z2\": Z2,\n",
        "             \"A2\": A2}\n",
        "    \n",
        "    return A2, cache"
      ],
      "execution_count": 4,
      "outputs": []
    },
    {
      "cell_type": "markdown",
      "metadata": {
        "id": "tNuiPIbikEnN",
        "colab_type": "text"
      },
      "source": [
        "## Backward propagation"
      ]
    },
    {
      "cell_type": "code",
      "metadata": {
        "id": "rZPjEYrfj7q-",
        "colab_type": "code",
        "colab": {}
      },
      "source": [
        "def compute_cost(A2, Y, parameters):\n",
        "    \"\"\"\n",
        "    Computes the cross-entropy cost given in equation (formula 4)\n",
        "    \n",
        "    Arguments:\n",
        "    A2 -- The sigmoid output of the second activation, of shape (1, number of examples)\n",
        "    Y -- \"true\" labels vector of shape (1, number of examples)\n",
        "    parameters -- python dictionary containing your parameters W1, b1, W2 and b2\n",
        "    \n",
        "    Returns:\n",
        "    cost -- cross-entropy cost given equation (13)\n",
        "    \"\"\"\n",
        "    \n",
        "    m = Y.shape[1] # number of example\n",
        "\n",
        "    \n",
        "    ### START CODE HERE ###\n",
        "    \n",
        "    #logprobs = None\n",
        "    cost = -1./m * np.nan_to_num((Y * np.log(A2) + (1 - Y) * np.log(1 - A2))).sum()\n",
        "    \n",
        "    ### END CODE HERE ###\n",
        "    \n",
        "    return cost"
      ],
      "execution_count": 5,
      "outputs": []
    },
    {
      "cell_type": "code",
      "metadata": {
        "id": "DjF0m2Z6kkaK",
        "colab_type": "code",
        "colab": {}
      },
      "source": [
        "def backward_propagation(parameters, cache, X, Y, diff_activation_func):\n",
        "    \"\"\"\n",
        "    Implement the backward propagation using the instructions above.\n",
        "    \n",
        "    Arguments:\n",
        "    parameters -- python dictionary containing our parameters \n",
        "    cache -- a dictionary containing \"Z1\", \"A1\", \"Z2\" and \"A2\".\n",
        "    X -- input data of shape (2, number of examples)\n",
        "    Y -- \"true\" labels vector of shape (1, number of examples)\n",
        "    diff_activation_func -- diff of activation function\n",
        "    \n",
        "    Returns:\n",
        "    grads -- python dictionary containing your gradients with respect to different parameters\n",
        "    \"\"\"\n",
        "    m = X.shape[1]\n",
        "    \n",
        "    W1 = parameters[\"W1\"]\n",
        "    W2 = parameters[\"W2\"]\n",
        "    \n",
        "    A1 = cache[\"A1\"]\n",
        "    A2 = cache[\"A2\"]\n",
        "    Z1 = cache[\"Z1\"]\n",
        "    Z2 = cache[\"Z2\"]\n",
        "\n",
        "    ### START CODE HERE ###\n",
        "    dZ2 = A2 - Y\n",
        "    dW2 = 1./m * np.dot(dZ2, A1.T)\n",
        "    db2 = 1./m * dZ2.sum()\n",
        "    dZ1 = np.dot(W2.T, dZ2) * diff_activation_func(Z1)\n",
        "    dW1 = 1./m * np.dot(dZ1, X.T)\n",
        "    db1 = 1./m * np.sum(dZ1, axis=1, keepdims=True)\n",
        "    ### END CODE HERE ###\n",
        "    \n",
        "    grads = {\"dW1\": dW1,\n",
        "             \"db1\": db1,\n",
        "             \"dW2\": dW2,\n",
        "             \"db2\": db2}\n",
        "    \n",
        "    return grads"
      ],
      "execution_count": 6,
      "outputs": []
    },
    {
      "cell_type": "markdown",
      "metadata": {
        "id": "971nQLZrkoAC",
        "colab_type": "text"
      },
      "source": [
        "## Обновление параметров"
      ]
    },
    {
      "cell_type": "code",
      "metadata": {
        "id": "CRYEnA9IknNL",
        "colab_type": "code",
        "colab": {}
      },
      "source": [
        "def update_parameters(parameters, grads, learning_rate=1.2):\n",
        "    \"\"\"\n",
        "    Updates parameters using the gradient descent update rule given above\n",
        "    \n",
        "    Arguments:\n",
        "    parameters -- python dictionary containing your parameters \n",
        "    grads -- python dictionary containing your gradients \n",
        "    \n",
        "    Returns:\n",
        "    parameters -- python dictionary containing your updated parameters \n",
        "    \"\"\"\n",
        "    \n",
        "    W1 = parameters[\"W1\"]\n",
        "    b1 = parameters[\"b1\"]\n",
        "    W2 = parameters[\"W2\"]\n",
        "    b2 = parameters[\"b2\"]\n",
        "    \n",
        "    dW1 = grads[\"dW1\"]\n",
        "    db1 = grads[\"db1\"]\n",
        "    dW2 = grads[\"dW2\"]\n",
        "    db2 = grads[\"db2\"]\n",
        "   \n",
        "    ### START CODE HERE ###\n",
        "    W1 = W1 - learning_rate * dW1\n",
        "    b1 = b1 - learning_rate * db1\n",
        "    W2 = W2 - learning_rate * dW2\n",
        "    b2 = b2 - learning_rate * db2\n",
        "    ### END CODE HERE ###\n",
        "    \n",
        "    parameters = {\"W1\": W1,\n",
        "                  \"b1\": b1,\n",
        "                  \"W2\": W2,\n",
        "                  \"b2\": b2}\n",
        "    \n",
        "    return parameters"
      ],
      "execution_count": 7,
      "outputs": []
    },
    {
      "cell_type": "code",
      "metadata": {
        "id": "mByjxJnZl2OV",
        "colab_type": "code",
        "colab": {}
      },
      "source": [
        "def nn_model(X, Y, n_h, activation_func, diff_activation_func, num_iterations=10000, learning_rate=1.2, print_cost=False, cost_iter=100):\n",
        "    \"\"\"\n",
        "    Arguments:\n",
        "    X -- dataset of shape (2, number of examples)\n",
        "    Y -- labels of shape (1, number of examples)\n",
        "    n_h -- size of the hidden layer\n",
        "    func -- function of activation\n",
        "    diff_func -- diff of activation function\n",
        "    num_iterations -- Number of iterations in gradient descent loop\n",
        "    print_cost -- if True, print the cost every 1000 iterations\n",
        "    \n",
        "    Returns:\n",
        "    parameters -- parameters learnt by the model. They can then be used to predict.\n",
        "    \"\"\"\n",
        "    \n",
        "    np.random.seed(3)\n",
        "    n_x = layer_sizes(X, Y)[0]\n",
        "    n_y = layer_sizes(X, Y)[2]\n",
        "    \n",
        "    # Инициализируйте параметры. Inputs: \"n_x, n_h, n_y\". Outputs = \"W1, b1, W2, b2, parameters\".\n",
        "    \n",
        "    ### START CODE HERE ###\n",
        "    parameters = initialize_parameters(n_x, n_h, n_y)\n",
        "    ### END CODE HERE ###\n",
        "    \n",
        "    W1 = parameters[\"W1\"]\n",
        "    b1 = parameters[\"b1\"]\n",
        "    W2 = parameters[\"W2\"]\n",
        "    b2 = parameters[\"b2\"]\n",
        "    \n",
        "    costs = []\n",
        "    \n",
        "    # Loop (градиентный спуск)\n",
        "\n",
        "    for i in range(0, num_iterations):\n",
        "        \n",
        "        ### START CODE HERE ###\n",
        "        # Шаг forward propagation\n",
        "        A2, cache = forward_propagation(X, parameters, activation_func)\n",
        "        \n",
        "        # Подсчет функции потерь\n",
        "        cost = compute_cost(A2, Y, parameters)\n",
        " \n",
        "        # Шаг backpropagation\n",
        "        grads = backward_propagation(parameters, cache, X, Y, diff_activation_func)\n",
        "\n",
        "        # Обновление весов\n",
        "        parameters = update_parameters(parameters, grads, learning_rate=learning_rate)\n",
        "        \n",
        "        ### END CODE HERE ###\n",
        "        \n",
        "        # Print the cost every 1000 iterations\n",
        "        if print_cost and i % 1000 == 0:\n",
        "            print(\"Cost after iteration %i: %f\" %(i, cost))\n",
        "        \n",
        "        if i % cost_iter == 0:\n",
        "            costs.append(cost)\n",
        "\n",
        "    return parameters, costs"
      ],
      "execution_count": 8,
      "outputs": []
    },
    {
      "cell_type": "markdown",
      "metadata": {
        "id": "AUFCThdAl-iW",
        "colab_type": "text"
      },
      "source": [
        "## Вывод предсказания\n"
      ]
    },
    {
      "cell_type": "code",
      "metadata": {
        "id": "VGN9USQrl93W",
        "colab_type": "code",
        "colab": {}
      },
      "source": [
        "def predict(parameters, X, activation_func, threshold = 0.5):\n",
        "    \"\"\"\n",
        "    Using the learned parameters, predicts a class for each example in X\n",
        "    \n",
        "    Arguments:\n",
        "    parameters -- python dictionary containing your parameters \n",
        "    X -- input data of size (n_x, m)\n",
        "    threshold -- used for defining prediction\n",
        "    activation_func -- activation function\n",
        "    \n",
        "    Returns\n",
        "    predictions -- vector of predictions of our model (red: 0 / blue: 1)\n",
        "    \"\"\"\n",
        "    \n",
        "    # Computes probabilities using forward propagation, and classifies to 0/1 using 0.5 as the threshold.\n",
        "    ### START CODE HERE ### (≈ 2 lines of code)\n",
        "    A2, cache = forward_propagation(X, parameters, activation_func)\n",
        "    predictions = (A2>threshold).astype(int)\n",
        "    ### END CODE HERE ###\n",
        "    \n",
        "    return predictions"
      ],
      "execution_count": 9,
      "outputs": []
    },
    {
      "cell_type": "markdown",
      "metadata": {
        "id": "0F5hF_ZtnKpI",
        "colab_type": "text"
      },
      "source": [
        "## Загрузка датасета"
      ]
    },
    {
      "cell_type": "code",
      "metadata": {
        "id": "KM6wiGWDoCpH",
        "colab_type": "code",
        "colab": {}
      },
      "source": [
        "def load_planar_dataset():\n",
        "    np.random.seed(1)\n",
        "    m = 400 # number of examples\n",
        "    N = int(m/2) # number of points per class\n",
        "    D = 2 # dimensionality\n",
        "    X = np.zeros((m,D)) # data matrix where each row is a single example\n",
        "    Y = np.zeros((m,1), dtype='uint8') # labels vector (0 for red, 1 for blue)\n",
        "    a = 4 # maximum ray of the flower\n",
        "\n",
        "    for j in range(2):\n",
        "        ix = range(N*j,N*(j+1))\n",
        "        t = np.linspace(j*3.12,(j+1)*3.12,N) + np.random.randn(N)*0.2 # theta\n",
        "        r = a*np.sin(4*t) + np.random.randn(N)*0.2 # radius\n",
        "        X[ix] = np.c_[r*np.sin(t), r*np.cos(t)]\n",
        "        Y[ix] = j\n",
        "        \n",
        "    X = X.T\n",
        "    Y = Y.T\n",
        "\n",
        "    return X, Y"
      ],
      "execution_count": 10,
      "outputs": []
    },
    {
      "cell_type": "code",
      "metadata": {
        "id": "mDctJdzsoE7N",
        "colab_type": "code",
        "colab": {}
      },
      "source": [
        "def plot_decision_boundary(model, X, y):\n",
        "    # Set min and max values and give it some padding\n",
        "    x_min, x_max = X[0, :].min() - 1, X[0, :].max() + 1\n",
        "    y_min, y_max = X[1, :].min() - 1, X[1, :].max() + 1\n",
        "    h = 0.01\n",
        "    # Generate a grid of points with distance h between them\n",
        "    xx, yy = np.meshgrid(np.arange(x_min, x_max, h), np.arange(y_min, y_max, h))\n",
        "    # Predict the function value for the whole grid\n",
        "    Z = model(np.c_[xx.ravel(), yy.ravel()])\n",
        "    Z = Z.reshape(xx.shape)\n",
        "    # Plot the contour and training examples\n",
        "    plt.figure(figsize=(14,8))\n",
        "    plt.contourf(xx, yy, Z, cmap=plt.cm.Spectral)\n",
        "    plt.ylabel('x2')\n",
        "    plt.xlabel('x1')\n",
        "    \n",
        "    #plt.figure(figsize=(14,8))\n",
        "    plt.scatter(X[0, :], X[1, :], c=y, cmap=plt.cm.Spectral)\n",
        "    #plt.show()"
      ],
      "execution_count": 11,
      "outputs": []
    },
    {
      "cell_type": "code",
      "metadata": {
        "id": "hDTW-LKPoI8Z",
        "colab_type": "code",
        "colab": {
          "base_uri": "https://localhost:8080/",
          "height": 483
        },
        "outputId": "44c576d4-2a40-47b5-b160-ce7c6437be7c"
      },
      "source": [
        "X, Y = load_planar_dataset() #загружаем датасет\n",
        "plt.figure(figsize=(14,8))\n",
        "plt.scatter(X[0, :], X[1, :], c=Y[0], s=40, cmap=plt.cm.Spectral);"
      ],
      "execution_count": 12,
      "outputs": [
        {
          "output_type": "display_data",
          "data": {
            "image/png": "[encoded data removed]",
            "text/plain": [
              "<Figure size 1008x576 with 1 Axes>"
            ]
          },
          "metadata": {
            "tags": [],
            "needs_background": "light"
          }
        }
      ]
    },
    {
      "cell_type": "markdown",
      "metadata": {
        "id": "SaAJt7m3jlIZ",
        "colab_type": "text"
      },
      "source": [
        "## Дополнительные функции"
      ]
    },
    {
      "cell_type": "code",
      "metadata": {
        "id": "sTnXYPYwjq7R",
        "colab_type": "code",
        "colab": {}
      },
      "source": [
        "def sigmoid(x):\n",
        "    return 1. / (np.exp(-x) + 1)\n",
        "\n",
        "def sigmoid_diff(x):\n",
        "    return sigmoid(x) * (1 - sigmoid(x))"
      ],
      "execution_count": 13,
      "outputs": []
    },
    {
      "cell_type": "code",
      "metadata": {
        "id": "dVRrmUkijswk",
        "colab_type": "code",
        "colab": {}
      },
      "source": [
        "def tanh(x):\n",
        "    return (np.exp(x) - np.exp(-x)) / (np.exp(x) + np.exp(-x))\n",
        "\n",
        "def tanh_diff(x):\n",
        "    return 4. / ((np.exp(x) + np.exp(-x)) ** 2)"
      ],
      "execution_count": 14,
      "outputs": []
    },
    {
      "cell_type": "code",
      "metadata": {
        "id": "IdocLVcY7YT6",
        "colab_type": "code",
        "colab": {}
      },
      "source": [
        "def ReLU(x):\n",
        "    return np.where(x > 0, x, 0)\n",
        "\n",
        "def ReLU_diff(x):\n",
        "    return np.where(x > 0, 1, 0)"
      ],
      "execution_count": 15,
      "outputs": []
    },
    {
      "cell_type": "code",
      "metadata": {
        "id": "t-P6LWCV778n",
        "colab_type": "code",
        "colab": {}
      },
      "source": [
        "def LeakyReLU(x, alpha=0.5):\n",
        "    return np.where(x > 0, x, x * 0.2)\n",
        "\n",
        "def LeakyReLU_diff(x, alpha=0.5):\n",
        "    return np.where(x > 0, 1, 0.2)"
      ],
      "execution_count": 16,
      "outputs": []
    },
    {
      "cell_type": "markdown",
      "metadata": {
        "id": "qr9bHUHDmXDq",
        "colab_type": "text"
      },
      "source": [
        "## Обучение и предсказание"
      ]
    },
    {
      "cell_type": "markdown",
      "metadata": {
        "id": "OsPHYrqzdhvu",
        "colab_type": "text"
      },
      "source": [
        "## Вывод графиков"
      ]
    },
    {
      "cell_type": "code",
      "metadata": {
        "id": "Be5ngnRRR4Yi",
        "colab_type": "code",
        "colab": {}
      },
      "source": [
        "import pylab"
      ],
      "execution_count": 23,
      "outputs": []
    },
    {
      "cell_type": "code",
      "metadata": {
        "id": "JKPwXDcjKwIx",
        "colab_type": "code",
        "colab": {}
      },
      "source": [
        "# Частота вывода cost\n",
        "costs_iter = 10"
      ],
      "execution_count": 17,
      "outputs": []
    },
    {
      "cell_type": "code",
      "metadata": {
        "id": "b_UMTQXsoIfd",
        "colab_type": "code",
        "colab": {}
      },
      "source": [
        "# Нормирование cost\n",
        "for i in range(len(costs_ReLU)):\n",
        "    if i == 0 and costs_ReLU[i] >= 1.2:\n",
        "        costs_ReLU[i] = 1.2\n",
        "    elif costs_ReLU[i] >= 1.2:\n",
        "        costs_ReLU[i] = costs_ReLU[i - 1]\n",
        "\n",
        "for i in range(len(costs_LeakyReLU)):\n",
        "    if i == 0 and costs_LeakyReLU[i] >= 1.2:\n",
        "        costs_LeakyReLU[i] = 1.2\n",
        "    elif costs_LeakyReLU[i] >= 1.2:\n",
        "        costs_LeakyReLU[i] = costs_LeakyReLU[i - 1]"
      ],
      "execution_count": 22,
      "outputs": []
    },
    {
      "cell_type": "code",
      "metadata": {
        "id": "Nxw0saYHdle2",
        "colab_type": "code",
        "colab": {
          "base_uri": "https://localhost:8080/",
          "height": 1000
        },
        "outputId": "44ac88ac-c09e-4fff-d663-df7cbbb9e885"
      },
      "source": [
        "fig = plt.figure(figsize=(20, 10))\n",
        "\n",
        "neurons = [4, 8, 12, 20]\n",
        "values = ['4', '8', '12', '20']\n",
        "\n",
        "# tanh plot\n",
        "plt.subplot(2, 2, 1)\n",
        "\n",
        "for neuro in neurons:\n",
        "    parameters_tanh, costs_tanh = nn_model(X, Y, neuro, tanh, tanh_diff, num_iterations=10000, learning_rate=1.2, print_cost=True, cost_iter=costs_iter)\n",
        "    plt.plot(list(range(0, len(costs_tanh) * costs_iter, costs_iter)), costs_tanh)\n",
        "plt.legend(values, loc='upper right')\n",
        "plt.grid(True)\n",
        "plt.title('tanh')\n",
        "\n",
        "# sigmoid plot\n",
        "plt.subplot(2, 2, 2)\n",
        "for neuro in neurons:\n",
        "    parameters_sigmoid, costs_sigmoid = nn_model(X, Y, 4, sigmoid, sigmoid_diff, num_iterations=10000, learning_rate=1.2, print_cost=True, cost_iter=costs_iter)\n",
        "    plt.plot(list(range(0, len(costs_sigmoid) * costs_iter, costs_iter)), costs_sigmoid)\n",
        "plt.legend(values, loc='upper right')\n",
        "plt.grid(True)\n",
        "plt.title('sigmoid')\n",
        "\n",
        "# ReLU plot\n",
        "plt.subplot(2, 2, 3)\n",
        "for neuro in neurons:\n",
        "    parameters_ReLU, costs_ReLU = nn_model(X, Y, 4, ReLU, ReLU_diff, num_iterations=10000, learning_rate=1.2, print_cost=True, cost_iter=costs_iter)\n",
        "    plt.plot(list(range(0, len(costs_ReLU) * costs_iter, costs_iter)), costs_ReLU)\n",
        "plt.legend(values, loc='upper right')\n",
        "plt.grid(True)\n",
        "plt.title('ReLU')\n",
        "\n",
        "# LeakyReLU\n",
        "plt.subplot(2, 2, 4)\n",
        "for neuro in neurons:\n",
        "    parameters_LeakyReLU, costs_LeakyReLU = nn_model(X, Y, 4, LeakyReLU, LeakyReLU_diff, num_iterations=10000, learning_rate=1.2, print_cost=True, cost_iter=costs_iter)\n",
        "    plt.plot(list(range(0, len(costs_LeakyReLU) * costs_iter, costs_iter)), costs_LeakyReLU)\n",
        "plt.legend(values, loc='upper right')\n",
        "plt.grid(True)\n",
        "plt.title('LeakyReLU')\n",
        "\n",
        "plt.show()\n",
        "\n"
      ],
      "execution_count": 30,
      "outputs": [
        {
          "output_type": "stream",
          "text": [
            "/usr/local/lib/python3.6/dist-packages/ipykernel_launcher.py:20: RuntimeWarning: invalid value encountered in log\n"
          ],
          "name": "stderr"
        },
        {
          "output_type": "stream",
          "text": [
            "Cost after iteration 0: 1.242604\n",
            "Cost after iteration 1000: 0.327999\n",
            "Cost after iteration 2000: 0.321859\n",
            "Cost after iteration 3000: 0.317305\n",
            "Cost after iteration 4000: 0.311699\n",
            "Cost after iteration 5000: 0.296711\n",
            "Cost after iteration 6000: 0.291190\n",
            "Cost after iteration 7000: 0.287334\n",
            "Cost after iteration 8000: 0.284330\n",
            "Cost after iteration 9000: 0.281917\n",
            "Cost after iteration 0: 1.244377\n",
            "Cost after iteration 1000: 0.336057\n",
            "Cost after iteration 2000: 0.312227\n",
            "Cost after iteration 3000: 0.286707\n",
            "Cost after iteration 4000: 0.272222\n",
            "Cost after iteration 5000: 0.261561\n",
            "Cost after iteration 6000: 0.248595\n",
            "Cost after iteration 7000: 0.228847\n",
            "Cost after iteration 8000: 0.203850\n",
            "Cost after iteration 9000: 0.209229\n",
            "Cost after iteration 0: 1.137772\n",
            "Cost after iteration 1000: 0.282337\n",
            "Cost after iteration 2000: 0.242498\n",
            "Cost after iteration 3000: 0.253413\n",
            "Cost after iteration 4000: 0.230083\n",
            "Cost after iteration 5000: 0.224427\n",
            "Cost after iteration 6000: 0.224162\n",
            "Cost after iteration 7000: 0.224153\n",
            "Cost after iteration 8000: 0.224404\n",
            "Cost after iteration 9000: 0.224844\n",
            "Cost after iteration 0: 1.003713\n",
            "Cost after iteration 1000: 0.260333\n",
            "Cost after iteration 2000: 0.254187\n",
            "Cost after iteration 3000: 0.248219\n",
            "Cost after iteration 4000: 0.228914\n",
            "Cost after iteration 5000: 0.227716\n",
            "Cost after iteration 6000: 0.227034\n",
            "Cost after iteration 7000: 0.226601\n",
            "Cost after iteration 8000: 0.226408\n",
            "Cost after iteration 9000: 0.227010\n",
            "Cost after iteration 0: 0.922869\n",
            "Cost after iteration 1000: 0.316966\n",
            "Cost after iteration 2000: 0.302021\n",
            "Cost after iteration 3000: 0.294712\n",
            "Cost after iteration 4000: 0.289833\n",
            "Cost after iteration 5000: 0.286090\n",
            "Cost after iteration 6000: 0.282983\n",
            "Cost after iteration 7000: 0.280243\n",
            "Cost after iteration 8000: 0.277589\n",
            "Cost after iteration 9000: 0.274882\n",
            "Cost after iteration 0: 0.922869\n",
            "Cost after iteration 1000: 0.316966\n",
            "Cost after iteration 2000: 0.302021\n",
            "Cost after iteration 3000: 0.294712\n",
            "Cost after iteration 4000: 0.289833\n",
            "Cost after iteration 5000: 0.286090\n",
            "Cost after iteration 6000: 0.282983\n",
            "Cost after iteration 7000: 0.280243\n",
            "Cost after iteration 8000: 0.277589\n",
            "Cost after iteration 9000: 0.274882\n",
            "Cost after iteration 0: 0.922869\n",
            "Cost after iteration 1000: 0.316966\n",
            "Cost after iteration 2000: 0.302021\n",
            "Cost after iteration 3000: 0.294712\n",
            "Cost after iteration 4000: 0.289833\n",
            "Cost after iteration 5000: 0.286090\n",
            "Cost after iteration 6000: 0.282983\n",
            "Cost after iteration 7000: 0.280243\n",
            "Cost after iteration 8000: 0.277589\n",
            "Cost after iteration 9000: 0.274882\n",
            "Cost after iteration 0: 0.922869\n",
            "Cost after iteration 1000: 0.316966\n",
            "Cost after iteration 2000: 0.302021\n",
            "Cost after iteration 3000: 0.294712\n",
            "Cost after iteration 4000: 0.289833\n",
            "Cost after iteration 5000: 0.286090\n",
            "Cost after iteration 6000: 0.282983\n",
            "Cost after iteration 7000: 0.280243\n",
            "Cost after iteration 8000: 0.277589\n",
            "Cost after iteration 9000: 0.274882\n"
          ],
          "name": "stdout"
        },
        {
          "output_type": "stream",
          "text": [
            "/usr/local/lib/python3.6/dist-packages/ipykernel_launcher.py:20: RuntimeWarning: divide by zero encountered in log\n",
            "/usr/local/lib/python3.6/dist-packages/ipykernel_launcher.py:20: RuntimeWarning: invalid value encountered in multiply\n",
            "/usr/local/lib/python3.6/dist-packages/numpy/core/_methods.py:38: RuntimeWarning: overflow encountered in reduce\n",
            "  return umr_sum(a, axis, dtype, out, keepdims, initial, where)\n"
          ],
          "name": "stderr"
        },
        {
          "output_type": "stream",
          "text": [
            "Cost after iteration 0: inf\n",
            "Cost after iteration 1000: 0.651036\n",
            "Cost after iteration 2000: 0.649590\n",
            "Cost after iteration 3000: 0.649337\n",
            "Cost after iteration 4000: 0.649266\n",
            "Cost after iteration 5000: 0.649190\n",
            "Cost after iteration 6000: 0.649152\n",
            "Cost after iteration 7000: 0.649122\n",
            "Cost after iteration 8000: 0.649101\n",
            "Cost after iteration 9000: 0.649065\n",
            "Cost after iteration 0: inf\n",
            "Cost after iteration 1000: 0.651036\n",
            "Cost after iteration 2000: 0.649590\n",
            "Cost after iteration 3000: 0.649337\n",
            "Cost after iteration 4000: 0.649266\n",
            "Cost after iteration 5000: 0.649190\n",
            "Cost after iteration 6000: 0.649152\n",
            "Cost after iteration 7000: 0.649122\n",
            "Cost after iteration 8000: 0.649101\n",
            "Cost after iteration 9000: 0.649065\n",
            "Cost after iteration 0: inf\n",
            "Cost after iteration 1000: 0.651036\n",
            "Cost after iteration 2000: 0.649590\n",
            "Cost after iteration 3000: 0.649337\n",
            "Cost after iteration 4000: 0.649266\n",
            "Cost after iteration 5000: 0.649190\n",
            "Cost after iteration 6000: 0.649152\n",
            "Cost after iteration 7000: 0.649122\n",
            "Cost after iteration 8000: 0.649101\n",
            "Cost after iteration 9000: 0.649065\n",
            "Cost after iteration 0: inf\n",
            "Cost after iteration 1000: 0.651036\n",
            "Cost after iteration 2000: 0.649590\n",
            "Cost after iteration 3000: 0.649337\n",
            "Cost after iteration 4000: 0.649266\n",
            "Cost after iteration 5000: 0.649190\n",
            "Cost after iteration 6000: 0.649152\n",
            "Cost after iteration 7000: 0.649122\n",
            "Cost after iteration 8000: 0.649101\n",
            "Cost after iteration 9000: 0.649065\n",
            "Cost after iteration 0: 0.035064\n",
            "Cost after iteration 1000: -0.000000\n"
          ],
          "name": "stdout"
        },
        {
          "output_type": "stream",
          "text": [
            "/usr/local/lib/python3.6/dist-packages/ipykernel_launcher.py:22: RuntimeWarning: overflow encountered in matmul\n",
            "/usr/local/lib/python3.6/dist-packages/ipykernel_launcher.py:22: RuntimeWarning: invalid value encountered in matmul\n",
            "/usr/local/lib/python3.6/dist-packages/ipykernel_launcher.py:2: RuntimeWarning: invalid value encountered in greater\n",
            "  \n",
            "/usr/local/lib/python3.6/dist-packages/ipykernel_launcher.py:5: RuntimeWarning: invalid value encountered in greater\n",
            "  \"\"\"\n"
          ],
          "name": "stderr"
        },
        {
          "output_type": "stream",
          "text": [
            "Cost after iteration 2000: -0.000000\n",
            "Cost after iteration 3000: -0.000000\n",
            "Cost after iteration 4000: -0.000000\n",
            "Cost after iteration 5000: -0.000000\n",
            "Cost after iteration 6000: -0.000000\n",
            "Cost after iteration 7000: -0.000000\n",
            "Cost after iteration 8000: -0.000000\n",
            "Cost after iteration 9000: -0.000000\n",
            "Cost after iteration 0: 0.035064\n",
            "Cost after iteration 1000: -0.000000\n",
            "Cost after iteration 2000: -0.000000\n",
            "Cost after iteration 3000: -0.000000\n",
            "Cost after iteration 4000: -0.000000\n",
            "Cost after iteration 5000: -0.000000\n",
            "Cost after iteration 6000: -0.000000\n",
            "Cost after iteration 7000: -0.000000\n",
            "Cost after iteration 8000: -0.000000\n",
            "Cost after iteration 9000: -0.000000\n",
            "Cost after iteration 0: 0.035064\n",
            "Cost after iteration 1000: -0.000000\n",
            "Cost after iteration 2000: -0.000000\n",
            "Cost after iteration 3000: -0.000000\n",
            "Cost after iteration 4000: -0.000000\n",
            "Cost after iteration 5000: -0.000000\n",
            "Cost after iteration 6000: -0.000000\n",
            "Cost after iteration 7000: -0.000000\n",
            "Cost after iteration 8000: -0.000000\n",
            "Cost after iteration 9000: -0.000000\n",
            "Cost after iteration 0: 0.035064\n",
            "Cost after iteration 1000: -0.000000\n",
            "Cost after iteration 2000: -0.000000\n",
            "Cost after iteration 3000: -0.000000\n",
            "Cost after iteration 4000: -0.000000\n",
            "Cost after iteration 5000: -0.000000\n",
            "Cost after iteration 6000: -0.000000\n",
            "Cost after iteration 7000: -0.000000\n",
            "Cost after iteration 8000: -0.000000\n",
            "Cost after iteration 9000: -0.000000\n"
          ],
          "name": "stdout"
        },
        {
          "output_type": "display_data",
          "data": {
            "image/png": "[encoded data removed]",
            "text/plain": [
              "<Figure size 1440x720 with 4 Axes>"
            ]
          },
          "metadata": {
            "tags": [],
            "needs_background": "light"
          }
        }
      ]
    },
    {
      "cell_type": "code",
      "metadata": {
        "id": "cVqQyoo8hI8d",
        "colab_type": "code",
        "colab": {}
      },
      "source": [
        "# Отрисуем вывод нейросети на плоскости\n",
        "plot_decision_boundary(lambda x: predict(parameters_LeakyReLU, x.T, LeakyReLU), X, Y)\n",
        "plt.title(\"Decision Boundary for hidden layer size \" + str(4))"
      ],
      "execution_count": null,
      "outputs": []
    }
  ]
}